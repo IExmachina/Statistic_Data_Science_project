{
  "nbformat": 4,
  "nbformat_minor": 0,
  "metadata": {
    "colab": {
      "name": "Statistics_project.ipynb",
      "provenance": []
    },
    "kernelspec": {
      "name": "python3",
      "display_name": "Python 3"
    },
    "language_info": {
      "name": "python"
    }
  },
  "cells": [
    {
      "cell_type": "code",
      "metadata": {
        "id": "uw5Qccvop4XI"
      },
      "source": [
        "import pandas as pd\n",
        "import numpy as np\n",
        "import matplotlib.pyplot as plt\n",
        "import seaborn as sns"
      ],
      "execution_count": 14,
      "outputs": []
    },
    {
      "cell_type": "markdown",
      "metadata": {
        "id": "oJx2KvcnZ1Wg"
      },
      "source": [
        "#About the data:\n",
        "\n",
        "This is a dataset about housing prices derived from the U.S. Census Service.\n",
        "We gonna play the roll of a data scientist that was hired to make statistics analysis on the data and get useful insights."
      ]
    },
    {
      "cell_type": "code",
      "metadata": {
        "id": "Vq7unbEPp0HC"
      },
      "source": [
        "boston_url = 'https://cf-courses-data.s3.us.cloud-object-storage.appdomain.cloud/IBMDeveloperSkillsNetwork-ST0151EN-SkillsNetwork/labs/boston_housing.csv'\n",
        "boston_df=pd.read_csv(boston_url)"
      ],
      "execution_count": 2,
      "outputs": []
    },
    {
      "cell_type": "code",
      "metadata": {
        "colab": {
          "base_uri": "https://localhost:8080/",
          "height": 202
        },
        "id": "y8m0L3VqqGEP",
        "outputId": "c58995f1-dd6f-44d7-9259-acae08202a3b"
      },
      "source": [
        "boston_df.head()"
      ],
      "execution_count": 44,
      "outputs": [
        {
          "output_type": "execute_result",
          "data": {
            "text/html": [
              "<div>\n",
              "<style scoped>\n",
              "    .dataframe tbody tr th:only-of-type {\n",
              "        vertical-align: middle;\n",
              "    }\n",
              "\n",
              "    .dataframe tbody tr th {\n",
              "        vertical-align: top;\n",
              "    }\n",
              "\n",
              "    .dataframe thead th {\n",
              "        text-align: right;\n",
              "    }\n",
              "</style>\n",
              "<table border=\"1\" class=\"dataframe\">\n",
              "  <thead>\n",
              "    <tr style=\"text-align: right;\">\n",
              "      <th></th>\n",
              "      <th>Unnamed: 0</th>\n",
              "      <th>CRIM</th>\n",
              "      <th>ZN</th>\n",
              "      <th>INDUS</th>\n",
              "      <th>CHAS</th>\n",
              "      <th>NOX</th>\n",
              "      <th>RM</th>\n",
              "      <th>AGE</th>\n",
              "      <th>DIS</th>\n",
              "      <th>RAD</th>\n",
              "      <th>TAX</th>\n",
              "      <th>PTRATIO</th>\n",
              "      <th>LSTAT</th>\n",
              "      <th>MEDV</th>\n",
              "      <th>age_group</th>\n",
              "    </tr>\n",
              "  </thead>\n",
              "  <tbody>\n",
              "    <tr>\n",
              "      <th>0</th>\n",
              "      <td>0</td>\n",
              "      <td>0.00632</td>\n",
              "      <td>18.0</td>\n",
              "      <td>2.31</td>\n",
              "      <td>0.0</td>\n",
              "      <td>0.538</td>\n",
              "      <td>6.575</td>\n",
              "      <td>65.2</td>\n",
              "      <td>4.0900</td>\n",
              "      <td>1.0</td>\n",
              "      <td>296.0</td>\n",
              "      <td>15.3</td>\n",
              "      <td>4.98</td>\n",
              "      <td>24.0</td>\n",
              "      <td>between 35 and 70 years</td>\n",
              "    </tr>\n",
              "    <tr>\n",
              "      <th>1</th>\n",
              "      <td>1</td>\n",
              "      <td>0.02731</td>\n",
              "      <td>0.0</td>\n",
              "      <td>7.07</td>\n",
              "      <td>0.0</td>\n",
              "      <td>0.469</td>\n",
              "      <td>6.421</td>\n",
              "      <td>78.9</td>\n",
              "      <td>4.9671</td>\n",
              "      <td>2.0</td>\n",
              "      <td>242.0</td>\n",
              "      <td>17.8</td>\n",
              "      <td>9.14</td>\n",
              "      <td>21.6</td>\n",
              "      <td>71 years and older</td>\n",
              "    </tr>\n",
              "    <tr>\n",
              "      <th>2</th>\n",
              "      <td>2</td>\n",
              "      <td>0.02729</td>\n",
              "      <td>0.0</td>\n",
              "      <td>7.07</td>\n",
              "      <td>0.0</td>\n",
              "      <td>0.469</td>\n",
              "      <td>7.185</td>\n",
              "      <td>61.1</td>\n",
              "      <td>4.9671</td>\n",
              "      <td>2.0</td>\n",
              "      <td>242.0</td>\n",
              "      <td>17.8</td>\n",
              "      <td>4.03</td>\n",
              "      <td>34.7</td>\n",
              "      <td>between 35 and 70 years</td>\n",
              "    </tr>\n",
              "    <tr>\n",
              "      <th>3</th>\n",
              "      <td>3</td>\n",
              "      <td>0.03237</td>\n",
              "      <td>0.0</td>\n",
              "      <td>2.18</td>\n",
              "      <td>0.0</td>\n",
              "      <td>0.458</td>\n",
              "      <td>6.998</td>\n",
              "      <td>45.8</td>\n",
              "      <td>6.0622</td>\n",
              "      <td>3.0</td>\n",
              "      <td>222.0</td>\n",
              "      <td>18.7</td>\n",
              "      <td>2.94</td>\n",
              "      <td>33.4</td>\n",
              "      <td>between 35 and 70 years</td>\n",
              "    </tr>\n",
              "    <tr>\n",
              "      <th>4</th>\n",
              "      <td>4</td>\n",
              "      <td>0.06905</td>\n",
              "      <td>0.0</td>\n",
              "      <td>2.18</td>\n",
              "      <td>0.0</td>\n",
              "      <td>0.458</td>\n",
              "      <td>7.147</td>\n",
              "      <td>54.2</td>\n",
              "      <td>6.0622</td>\n",
              "      <td>3.0</td>\n",
              "      <td>222.0</td>\n",
              "      <td>18.7</td>\n",
              "      <td>5.33</td>\n",
              "      <td>36.2</td>\n",
              "      <td>between 35 and 70 years</td>\n",
              "    </tr>\n",
              "  </tbody>\n",
              "</table>\n",
              "</div>"
            ],
            "text/plain": [
              "   Unnamed: 0     CRIM    ZN  ...  LSTAT  MEDV                age_group\n",
              "0           0  0.00632  18.0  ...   4.98  24.0  between 35 and 70 years\n",
              "1           1  0.02731   0.0  ...   9.14  21.6       71 years and older\n",
              "2           2  0.02729   0.0  ...   4.03  34.7  between 35 and 70 years\n",
              "3           3  0.03237   0.0  ...   2.94  33.4  between 35 and 70 years\n",
              "4           4  0.06905   0.0  ...   5.33  36.2  between 35 and 70 years\n",
              "\n",
              "[5 rows x 15 columns]"
            ]
          },
          "metadata": {},
          "execution_count": 44
        }
      ]
    },
    {
      "cell_type": "markdown",
      "metadata": {
        "id": "eTi-yQIjqegr"
      },
      "source": [
        "#Data Visualization"
      ]
    },
    {
      "cell_type": "code",
      "metadata": {
        "colab": {
          "base_uri": "https://localhost:8080/",
          "height": 294
        },
        "id": "HTbSSQfiOyBm",
        "outputId": "614baeab-acfd-4168-fd85-6f34fae377a7"
      },
      "source": [
        "boston_df.describe()"
      ],
      "execution_count": 45,
      "outputs": [
        {
          "output_type": "execute_result",
          "data": {
            "text/html": [
              "<div>\n",
              "<style scoped>\n",
              "    .dataframe tbody tr th:only-of-type {\n",
              "        vertical-align: middle;\n",
              "    }\n",
              "\n",
              "    .dataframe tbody tr th {\n",
              "        vertical-align: top;\n",
              "    }\n",
              "\n",
              "    .dataframe thead th {\n",
              "        text-align: right;\n",
              "    }\n",
              "</style>\n",
              "<table border=\"1\" class=\"dataframe\">\n",
              "  <thead>\n",
              "    <tr style=\"text-align: right;\">\n",
              "      <th></th>\n",
              "      <th>Unnamed: 0</th>\n",
              "      <th>CRIM</th>\n",
              "      <th>ZN</th>\n",
              "      <th>INDUS</th>\n",
              "      <th>CHAS</th>\n",
              "      <th>NOX</th>\n",
              "      <th>RM</th>\n",
              "      <th>AGE</th>\n",
              "      <th>DIS</th>\n",
              "      <th>RAD</th>\n",
              "      <th>TAX</th>\n",
              "      <th>PTRATIO</th>\n",
              "      <th>LSTAT</th>\n",
              "      <th>MEDV</th>\n",
              "    </tr>\n",
              "  </thead>\n",
              "  <tbody>\n",
              "    <tr>\n",
              "      <th>count</th>\n",
              "      <td>506.000000</td>\n",
              "      <td>506.000000</td>\n",
              "      <td>506.000000</td>\n",
              "      <td>506.000000</td>\n",
              "      <td>506.000000</td>\n",
              "      <td>506.000000</td>\n",
              "      <td>506.000000</td>\n",
              "      <td>506.000000</td>\n",
              "      <td>506.000000</td>\n",
              "      <td>506.000000</td>\n",
              "      <td>506.000000</td>\n",
              "      <td>506.000000</td>\n",
              "      <td>506.000000</td>\n",
              "      <td>506.000000</td>\n",
              "    </tr>\n",
              "    <tr>\n",
              "      <th>mean</th>\n",
              "      <td>252.500000</td>\n",
              "      <td>3.613524</td>\n",
              "      <td>11.363636</td>\n",
              "      <td>11.136779</td>\n",
              "      <td>0.069170</td>\n",
              "      <td>0.554695</td>\n",
              "      <td>6.284634</td>\n",
              "      <td>68.574901</td>\n",
              "      <td>3.795043</td>\n",
              "      <td>9.549407</td>\n",
              "      <td>408.237154</td>\n",
              "      <td>18.455534</td>\n",
              "      <td>12.653063</td>\n",
              "      <td>22.532806</td>\n",
              "    </tr>\n",
              "    <tr>\n",
              "      <th>std</th>\n",
              "      <td>146.213884</td>\n",
              "      <td>8.601545</td>\n",
              "      <td>23.322453</td>\n",
              "      <td>6.860353</td>\n",
              "      <td>0.253994</td>\n",
              "      <td>0.115878</td>\n",
              "      <td>0.702617</td>\n",
              "      <td>28.148861</td>\n",
              "      <td>2.105710</td>\n",
              "      <td>8.707259</td>\n",
              "      <td>168.537116</td>\n",
              "      <td>2.164946</td>\n",
              "      <td>7.141062</td>\n",
              "      <td>9.197104</td>\n",
              "    </tr>\n",
              "    <tr>\n",
              "      <th>min</th>\n",
              "      <td>0.000000</td>\n",
              "      <td>0.006320</td>\n",
              "      <td>0.000000</td>\n",
              "      <td>0.460000</td>\n",
              "      <td>0.000000</td>\n",
              "      <td>0.385000</td>\n",
              "      <td>3.561000</td>\n",
              "      <td>2.900000</td>\n",
              "      <td>1.129600</td>\n",
              "      <td>1.000000</td>\n",
              "      <td>187.000000</td>\n",
              "      <td>12.600000</td>\n",
              "      <td>1.730000</td>\n",
              "      <td>5.000000</td>\n",
              "    </tr>\n",
              "    <tr>\n",
              "      <th>25%</th>\n",
              "      <td>126.250000</td>\n",
              "      <td>0.082045</td>\n",
              "      <td>0.000000</td>\n",
              "      <td>5.190000</td>\n",
              "      <td>0.000000</td>\n",
              "      <td>0.449000</td>\n",
              "      <td>5.885500</td>\n",
              "      <td>45.025000</td>\n",
              "      <td>2.100175</td>\n",
              "      <td>4.000000</td>\n",
              "      <td>279.000000</td>\n",
              "      <td>17.400000</td>\n",
              "      <td>6.950000</td>\n",
              "      <td>17.025000</td>\n",
              "    </tr>\n",
              "    <tr>\n",
              "      <th>50%</th>\n",
              "      <td>252.500000</td>\n",
              "      <td>0.256510</td>\n",
              "      <td>0.000000</td>\n",
              "      <td>9.690000</td>\n",
              "      <td>0.000000</td>\n",
              "      <td>0.538000</td>\n",
              "      <td>6.208500</td>\n",
              "      <td>77.500000</td>\n",
              "      <td>3.207450</td>\n",
              "      <td>5.000000</td>\n",
              "      <td>330.000000</td>\n",
              "      <td>19.050000</td>\n",
              "      <td>11.360000</td>\n",
              "      <td>21.200000</td>\n",
              "    </tr>\n",
              "    <tr>\n",
              "      <th>75%</th>\n",
              "      <td>378.750000</td>\n",
              "      <td>3.677082</td>\n",
              "      <td>12.500000</td>\n",
              "      <td>18.100000</td>\n",
              "      <td>0.000000</td>\n",
              "      <td>0.624000</td>\n",
              "      <td>6.623500</td>\n",
              "      <td>94.075000</td>\n",
              "      <td>5.188425</td>\n",
              "      <td>24.000000</td>\n",
              "      <td>666.000000</td>\n",
              "      <td>20.200000</td>\n",
              "      <td>16.955000</td>\n",
              "      <td>25.000000</td>\n",
              "    </tr>\n",
              "    <tr>\n",
              "      <th>max</th>\n",
              "      <td>505.000000</td>\n",
              "      <td>88.976200</td>\n",
              "      <td>100.000000</td>\n",
              "      <td>27.740000</td>\n",
              "      <td>1.000000</td>\n",
              "      <td>0.871000</td>\n",
              "      <td>8.780000</td>\n",
              "      <td>100.000000</td>\n",
              "      <td>12.126500</td>\n",
              "      <td>24.000000</td>\n",
              "      <td>711.000000</td>\n",
              "      <td>22.000000</td>\n",
              "      <td>37.970000</td>\n",
              "      <td>50.000000</td>\n",
              "    </tr>\n",
              "  </tbody>\n",
              "</table>\n",
              "</div>"
            ],
            "text/plain": [
              "       Unnamed: 0        CRIM          ZN  ...     PTRATIO       LSTAT        MEDV\n",
              "count  506.000000  506.000000  506.000000  ...  506.000000  506.000000  506.000000\n",
              "mean   252.500000    3.613524   11.363636  ...   18.455534   12.653063   22.532806\n",
              "std    146.213884    8.601545   23.322453  ...    2.164946    7.141062    9.197104\n",
              "min      0.000000    0.006320    0.000000  ...   12.600000    1.730000    5.000000\n",
              "25%    126.250000    0.082045    0.000000  ...   17.400000    6.950000   17.025000\n",
              "50%    252.500000    0.256510    0.000000  ...   19.050000   11.360000   21.200000\n",
              "75%    378.750000    3.677082   12.500000  ...   20.200000   16.955000   25.000000\n",
              "max    505.000000   88.976200  100.000000  ...   22.000000   37.970000   50.000000\n",
              "\n",
              "[8 rows x 14 columns]"
            ]
          },
          "metadata": {},
          "execution_count": 45
        }
      ]
    },
    {
      "cell_type": "markdown",
      "metadata": {
        "id": "557HzhPXxE7z"
      },
      "source": [
        "### 1. Boxplot"
      ]
    },
    {
      "cell_type": "code",
      "metadata": {
        "colab": {
          "base_uri": "https://localhost:8080/",
          "height": 294
        },
        "id": "V6CdebthqiaM",
        "outputId": "2206f8b1-16fa-4aa8-c265-b0651bec5b8f"
      },
      "source": [
        "sns.boxplot(x= boston_df['MEDV'], data=boston_df);\n",
        "plt.title(\"Median value of owner-occupied homes in $1000's' BOXPLOT\");"
      ],
      "execution_count": 16,
      "outputs": [
        {
          "output_type": "display_data",
          "data": {
            "image/png": "[encoded data removed]",
            "text/plain": [
              "<Figure size 432x288 with 1 Axes>"
            ]
          },
          "metadata": {
            "needs_background": "light"
          }
        }
      ]
    },
    {
      "cell_type": "markdown",
      "metadata": {
        "id": "xxXo7p2lxQtQ"
      },
      "source": [
        "### 2. Histogram for CHAS variable"
      ]
    },
    {
      "cell_type": "code",
      "metadata": {
        "colab": {
          "base_uri": "https://localhost:8080/",
          "height": 384
        },
        "id": "Z-OXMDXrqo8M",
        "outputId": "b6739f5c-d62d-4714-8586-d658d0282aef"
      },
      "source": [
        "sns.catplot(x= 'CHAS', kind='count', data=boston_df);\n",
        "plt.title(' Charles River Histogram');\n",
        "plt.xlabel(' Charles River');"
      ],
      "execution_count": 18,
      "outputs": [
        {
          "output_type": "display_data",
          "data": {
            "image/png": "[encoded data removed]",
            "text/plain": [
              "<Figure size 360x360 with 1 Axes>"
            ]
          },
          "metadata": {
            "needs_background": "light"
          }
        }
      ]
    },
    {
      "cell_type": "markdown",
      "metadata": {
        "id": "sG8n9_DSxXEU"
      },
      "source": [
        "### 3.Boxplot to relationship between Age and MEDV"
      ]
    },
    {
      "cell_type": "code",
      "metadata": {
        "id": "MOY4-0evr_8C"
      },
      "source": [
        "boston_df.loc[(boston_df['AGE'] <= 35), 'age_group'] = '35 years and younger'\n",
        "boston_df.loc[(boston_df['AGE'] > 35)&(boston_df['AGE'] < 70), 'age_group'] = 'between 35 and 70 years'\n",
        "boston_df.loc[(boston_df['AGE'] >= 71), 'age_group'] = '71 years and older'"
      ],
      "execution_count": 19,
      "outputs": []
    },
    {
      "cell_type": "code",
      "metadata": {
        "colab": {
          "base_uri": "https://localhost:8080/",
          "height": 294
        },
        "id": "6-hr3whCuU1y",
        "outputId": "e533fe7a-ebfd-4abe-8c63-0bc43c04d3e2"
      },
      "source": [
        "sns.boxplot(x= 'age_group', y='MEDV', data=boston_df);\n",
        "plt.title('MEDV vs the Age groups');"
      ],
      "execution_count": 23,
      "outputs": [
        {
          "output_type": "display_data",
          "data": {
            "image/png": "[encoded data removed]",
            "text/plain": [
              "<Figure size 432x288 with 1 Axes>"
            ]
          },
          "metadata": {
            "needs_background": "light"
          }
        }
      ]
    },
    {
      "cell_type": "markdown",
      "metadata": {
        "id": "u9iUbFHwxowu"
      },
      "source": [
        "### 4. Scatter plot for the Relationship between Nitric oxide  and the proportion of non-retail business acres per town"
      ]
    },
    {
      "cell_type": "code",
      "metadata": {
        "colab": {
          "base_uri": "https://localhost:8080/",
          "height": 312
        },
        "id": "uT5NjHvXvJPI",
        "outputId": "9c1f7a6d-43f1-4360-cf6d-7c309ad0620a"
      },
      "source": [
        "sns.scatterplot(x='NOX', y='INDUS', data=boston_df)\n",
        "plt.title('Relationship between Nitric oxide  and the proportion of non-retail business acres per town')\n",
        "plt.xlabel('Nitric oxide')\n",
        "plt.ylabel('Proportion of non-retail business')\n",
        "plt.figure(figsize=(12, 8))\n",
        "\n",
        "plt.show()\n",
        "\n",
        "# I would say that there is a positive linear correlation."
      ],
      "execution_count": 28,
      "outputs": [
        {
          "output_type": "display_data",
          "data": {
            "image/png": "[encoded data removed]",
            "text/plain": [
              "<Figure size 432x288 with 1 Axes>"
            ]
          },
          "metadata": {
            "needs_background": "light"
          }
        },
        {
          "output_type": "display_data",
          "data": {
            "text/plain": [
              "<Figure size 864x576 with 0 Axes>"
            ]
          },
          "metadata": {}
        }
      ]
    },
    {
      "cell_type": "markdown",
      "metadata": {
        "id": "AejUt8kXxwDL"
      },
      "source": [
        "###5. Histogram fot Pupil-teacher ratio by town"
      ]
    },
    {
      "cell_type": "code",
      "metadata": {
        "colab": {
          "base_uri": "https://localhost:8080/",
          "height": 312
        },
        "id": "P6pSMLVxvmDr",
        "outputId": "50d6db62-6633-4a38-d657-22215ad3d619"
      },
      "source": [
        "sns.histplot(x='PTRATIO', data=boston_df);\n",
        "plt.title('Pupil-teacher ratio by town');\n",
        "plt.xlabel('Pupil-teacher Ratio');\n",
        "plt.figure(figsize=(12, 8));"
      ],
      "execution_count": 32,
      "outputs": [
        {
          "output_type": "display_data",
          "data": {
            "image/png": "[encoded data removed]",
            "text/plain": [
              "<Figure size 432x288 with 1 Axes>"
            ]
          },
          "metadata": {
            "needs_background": "light"
          }
        },
        {
          "output_type": "display_data",
          "data": {
            "text/plain": [
              "<Figure size 864x576 with 0 Axes>"
            ]
          },
          "metadata": {}
        }
      ]
    },
    {
      "cell_type": "markdown",
      "metadata": {
        "id": "5lg1pfr-x56Q"
      },
      "source": [
        "# Hypothesis Testings"
      ]
    },
    {
      "cell_type": "markdown",
      "metadata": {
        "id": "Q4uLhSM1yOK1"
      },
      "source": [
        "###Question 1:\n",
        "Is there a significant difference in median value of houses bounded by the Charles river or not?\n",
        "\n",
        "I will use the **t-test** for that, since its two independent variables."
      ]
    },
    {
      "cell_type": "code",
      "metadata": {
        "id": "x1NFbIIu02vA"
      },
      "source": [
        "# H_0: µ_1 = µ_2 -> There IS NOT a significant difference in median value of houses bounded by the Charles river.\n",
        "# H_1: µ_1 ≠ µ_2 -> There IS a significant difference in median value of houses bounded by the Charles river."
      ],
      "execution_count": null,
      "outputs": []
    },
    {
      "cell_type": "code",
      "metadata": {
        "id": "9Y0WKP3Yx9rC"
      },
      "source": [
        "import scipy.stats\n",
        "alpha = 0.5"
      ],
      "execution_count": 34,
      "outputs": []
    },
    {
      "cell_type": "code",
      "metadata": {
        "colab": {
          "base_uri": "https://localhost:8080/"
        },
        "id": "-Ah0bkutyk4Y",
        "outputId": "851d7d7d-b8d5-4f37-81ff-743386efb25f"
      },
      "source": [
        "# First, let's test the equality of variance\n",
        "scipy.stats.levene(boston_df[boston_df['CHAS'] == 1]['MEDV'],\n",
        "                   boston_df[boston_df['CHAS'] == 0]['MEDV'], center='mean')\n",
        "\n",
        "# since the p-value is less than 0.05 we reject the null hyphotesis and assume that there are not equality of variance. But let's move on for the purpose of the exercise."
      ],
      "execution_count": 40,
      "outputs": [
        {
          "output_type": "execute_result",
          "data": {
            "text/plain": [
              "LeveneResult(statistic=8.751904896045998, pvalue=0.003238119367639829)"
            ]
          },
          "metadata": {},
          "execution_count": 40
        }
      ]
    },
    {
      "cell_type": "code",
      "metadata": {
        "colab": {
          "base_uri": "https://localhost:8080/"
        },
        "id": "xTiSLdp2zVpB",
        "outputId": "8d9fa756-d62a-4d90-bbca-e6e483e2392c"
      },
      "source": [
        "# t-test\n",
        "scipy.stats.ttest_ind(boston_df[boston_df['CHAS'] == 1]['MEDV'],\n",
        "                   boston_df[boston_df['CHAS'] == 0]['MEDV'], equal_var=True)"
      ],
      "execution_count": 42,
      "outputs": [
        {
          "output_type": "execute_result",
          "data": {
            "text/plain": [
              "Ttest_indResult(statistic=3.996437466090509, pvalue=7.390623170519905e-05)"
            ]
          },
          "metadata": {},
          "execution_count": 42
        }
      ]
    },
    {
      "cell_type": "markdown",
      "metadata": {
        "id": "HSvT-rx42gBT"
      },
      "source": [
        "#####**Conclusion**:\n",
        "Since the p-value is less than 0.05 we reject the null hyphotesis! \n",
        "\n",
        "So we assume that there IS a significant difference in median value of houses bounded by the Charles river.\n"
      ]
    },
    {
      "cell_type": "markdown",
      "metadata": {
        "id": "MrkoDzlU3LlW"
      },
      "source": [
        "###Question 2:\n",
        "Is there a difference in Median values of houses for each proportion of owner occupied units built prior to 1940?\n",
        "\n",
        "We will use the **ANOVA** test, since there are more than two independent variables."
      ]
    },
    {
      "cell_type": "code",
      "metadata": {
        "id": "po0n-xUsS_Oi"
      },
      "source": [
        "# H_0: µ_1 = µ_2 -> -> There IS NOT a difference in Median values of houses for each proportion of owner occupied units built prior to 1940.\n",
        "# H_1: µ_1 ≠ µ_2 -> There IS a difference in Median values of houses for each proportion of owner occupied units built prior to 1940."
      ],
      "execution_count": null,
      "outputs": []
    },
    {
      "cell_type": "code",
      "metadata": {
        "colab": {
          "base_uri": "https://localhost:8080/"
        },
        "id": "Bswo2c_w2J74",
        "outputId": "c5cd1c29-061d-4e61-9243-1dfe5fdb059a"
      },
      "source": [
        "# First, let's test the equality of variance\n",
        "scipy.stats.levene(boston_df[boston_df['age_group'] == '35 years and younger']['MEDV'],\n",
        "                   boston_df[boston_df['age_group'] == 'between 35 and 70 years']['MEDV'],\n",
        "                    boston_df[boston_df['age_group'] == '71 years and older']['MEDV'], center='mean')\n",
        "\n",
        "# since the p-value is greater than 0.05, we do not reject the null hyphotesis. So we assume that there are equality of variance."
      ],
      "execution_count": 49,
      "outputs": [
        {
          "output_type": "execute_result",
          "data": {
            "text/plain": [
              "LeveneResult(statistic=2.520506764132458, pvalue=0.0814464163906692)"
            ]
          },
          "metadata": {},
          "execution_count": 49
        }
      ]
    },
    {
      "cell_type": "code",
      "metadata": {
        "id": "Rp_xFK42RcCV"
      },
      "source": [
        "# Getting the variables to the test\n",
        "thirtyfive_younger = boston_df[boston_df['age_group'] == '35 years and younger']['MEDV']\n",
        "thirtyfive_seventyone = boston_df[boston_df['age_group'] == 'between 35 and 70 years']['MEDV']\n",
        "seventyone_older = boston_df[boston_df['age_group'] == '71 years and older']['MEDV']"
      ],
      "execution_count": 56,
      "outputs": []
    },
    {
      "cell_type": "code",
      "metadata": {
        "colab": {
          "base_uri": "https://localhost:8080/"
        },
        "id": "wHVbOkbcQG_Z",
        "outputId": "e6fd7538-555d-4371-de4c-079c3c77192b"
      },
      "source": [
        "f_statistic, p_value = scipy.stats.f_oneway(thirtyfive_younger, thirtyfive_seventyone, seventyone_older)\n",
        "print(\"F_Statistic: {0}, P-Value: {1}\".format(f_statistic,p_value))"
      ],
      "execution_count": 57,
      "outputs": [
        {
          "output_type": "stream",
          "name": "stdout",
          "text": [
            "F_Statistic: 37.777098425714556, P-Value: 5.335030413750619e-16\n"
          ]
        }
      ]
    },
    {
      "cell_type": "markdown",
      "metadata": {
        "id": "c8NRO9bcS5s5"
      },
      "source": [
        "#####**Conclusion**:\n",
        "Since the p-value is less than 0.05 we reject the null hyphotesis! \n",
        "\n",
        "WE assume that there IS a difference in Median values of houses for each proportion of owner occupied units built prior to 1940.\n"
      ]
    },
    {
      "cell_type": "code",
      "metadata": {
        "id": "eLGu4HVUTWAO"
      },
      "source": [
        ""
      ],
      "execution_count": null,
      "outputs": []
    },
    {
      "cell_type": "markdown",
      "metadata": {
        "id": "uCZRJ2lqTYc2"
      },
      "source": [
        "### Question 3:\n",
        "Can we conclude that there is no relationship between Nitric oxide concentrations and proportion of non-retail business acres per town?\n",
        "\n",
        "We will use the Pearson's correlation test."
      ]
    },
    {
      "cell_type": "code",
      "metadata": {
        "id": "Pj1gHhZiTkWH"
      },
      "source": [
        "# H_0: µ_1 = µ_2 -> There IS NOT a relationship between Nitric oxide concentrations and proportion of non-retail business acres per town.\n",
        "# H_1: µ_1 ≠ µ_2 -> There IS a relationship between Nitric oxide concentrations and proportion of non-retail business acres per town."
      ],
      "execution_count": null,
      "outputs": []
    },
    {
      "cell_type": "code",
      "metadata": {
        "colab": {
          "base_uri": "https://localhost:8080/"
        },
        "id": "F2HGKqtxT7Uu",
        "outputId": "baa2494f-cecc-47ad-e291-76f03931fd75"
      },
      "source": [
        "# Pearson's correlation test\n",
        "scipy.stats.pearsonr(boston_df['NOX'], boston_df['INDUS'])"
      ],
      "execution_count": 59,
      "outputs": [
        {
          "output_type": "execute_result",
          "data": {
            "text/plain": [
              "(0.7636514469209154, 7.913361061236894e-98)"
            ]
          },
          "metadata": {},
          "execution_count": 59
        }
      ]
    },
    {
      "cell_type": "markdown",
      "metadata": {
        "id": "q4UPvs5gVG5V"
      },
      "source": [
        "#####**Conclusion**:\n",
        "Since the p-value is less than 0.05 we reject the null hyphotesis! \n",
        "\n",
        "So we assume that there IS a correlation between Nitric oxide concentrations and proportion of non-retail business acres per town.\n"
      ]
    },
    {
      "cell_type": "markdown",
      "metadata": {
        "id": "PS8molDKVx4f"
      },
      "source": [
        "### Question 4:\n",
        "What is the impact of an additional weighted distance  to the five Boston employment centres on the median value of owner occupied homes?\n",
        "\n",
        "We will use Regression analysis to find out."
      ]
    },
    {
      "cell_type": "code",
      "metadata": {
        "id": "OGzB-JvjW6Qe"
      },
      "source": [
        "# H_0: µ_1 = µ_2 -> There IS NOT a impact with an additional weighted distance  to the five Boston employment centres on the median value of owner occupied homes.\n",
        "# H_1: µ_1 ≠ µ_2 -> There IS a impact with an additional weighted distance  to the five Boston employment centres on the median value of owner occupied homes."
      ],
      "execution_count": null,
      "outputs": []
    },
    {
      "cell_type": "code",
      "metadata": {
        "colab": {
          "base_uri": "https://localhost:8080/"
        },
        "id": "cCGrwNypWxo4",
        "outputId": "e56bf1d3-f603-4e65-c60d-7c3a2ed90f64"
      },
      "source": [
        "# impoting libraries\n",
        "from statsmodels.formula.api import ols\n",
        "import statsmodels.api as sm"
      ],
      "execution_count": 61,
      "outputs": [
        {
          "output_type": "stream",
          "name": "stderr",
          "text": [
            "/usr/local/lib/python3.7/dist-packages/statsmodels/tools/_testing.py:19: FutureWarning: pandas.util.testing is deprecated. Use the functions in the public API at pandas.testing instead.\n",
            "  import pandas.util.testing as tm\n"
          ]
        }
      ]
    },
    {
      "cell_type": "code",
      "metadata": {
        "colab": {
          "base_uri": "https://localhost:8080/",
          "height": 420
        },
        "id": "w-oGCFqxWbS2",
        "outputId": "a704ed50-838f-4405-a243-6da60093ca40"
      },
      "source": [
        "y = boston_df['DIS']\n",
        "X = boston_df['MEDV']\n",
        "## add an intercept (beta_0) to our model\n",
        "X = sm.add_constant(X) \n",
        "\n",
        "model = sm.OLS(y, X).fit()\n",
        "predictions = model.predict(X)\n",
        "\n",
        "# Print out the statistics\n",
        "model.summary()"
      ],
      "execution_count": 62,
      "outputs": [
        {
          "output_type": "execute_result",
          "data": {
            "text/html": [
              "<table class=\"simpletable\">\n",
              "<caption>OLS Regression Results</caption>\n",
              "<tr>\n",
              "  <th>Dep. Variable:</th>           <td>DIS</td>       <th>  R-squared:         </th> <td>   0.062</td>\n",
              "</tr>\n",
              "<tr>\n",
              "  <th>Model:</th>                   <td>OLS</td>       <th>  Adj. R-squared:    </th> <td>   0.061</td>\n",
              "</tr>\n",
              "<tr>\n",
              "  <th>Method:</th>             <td>Least Squares</td>  <th>  F-statistic:       </th> <td>   33.58</td>\n",
              "</tr>\n",
              "<tr>\n",
              "  <th>Date:</th>             <td>Tue, 28 Sep 2021</td> <th>  Prob (F-statistic):</th> <td>1.21e-08</td>\n",
              "</tr>\n",
              "<tr>\n",
              "  <th>Time:</th>                 <td>17:04:56</td>     <th>  Log-Likelihood:    </th> <td> -1078.0</td>\n",
              "</tr>\n",
              "<tr>\n",
              "  <th>No. Observations:</th>      <td>   506</td>      <th>  AIC:               </th> <td>   2160.</td>\n",
              "</tr>\n",
              "<tr>\n",
              "  <th>Df Residuals:</th>          <td>   504</td>      <th>  BIC:               </th> <td>   2168.</td>\n",
              "</tr>\n",
              "<tr>\n",
              "  <th>Df Model:</th>              <td>     1</td>      <th>                     </th>     <td> </td>   \n",
              "</tr>\n",
              "<tr>\n",
              "  <th>Covariance Type:</th>      <td>nonrobust</td>    <th>                     </th>     <td> </td>   \n",
              "</tr>\n",
              "</table>\n",
              "<table class=\"simpletable\">\n",
              "<tr>\n",
              "    <td></td>       <th>coef</th>     <th>std err</th>      <th>t</th>      <th>P>|t|</th>  <th>[0.025</th>    <th>0.975]</th>  \n",
              "</tr>\n",
              "<tr>\n",
              "  <th>const</th> <td>    2.5057</td> <td>    0.240</td> <td>   10.428</td> <td> 0.000</td> <td>    2.034</td> <td>    2.978</td>\n",
              "</tr>\n",
              "<tr>\n",
              "  <th>MEDV</th>  <td>    0.0572</td> <td>    0.010</td> <td>    5.795</td> <td> 0.000</td> <td>    0.038</td> <td>    0.077</td>\n",
              "</tr>\n",
              "</table>\n",
              "<table class=\"simpletable\">\n",
              "<tr>\n",
              "  <th>Omnibus:</th>       <td>70.837</td> <th>  Durbin-Watson:     </th> <td>   0.138</td>\n",
              "</tr>\n",
              "<tr>\n",
              "  <th>Prob(Omnibus):</th> <td> 0.000</td> <th>  Jarque-Bera (JB):  </th> <td>  98.167</td>\n",
              "</tr>\n",
              "<tr>\n",
              "  <th>Skew:</th>          <td> 1.000</td> <th>  Prob(JB):          </th> <td>4.82e-22</td>\n",
              "</tr>\n",
              "<tr>\n",
              "  <th>Kurtosis:</th>      <td> 3.809</td> <th>  Cond. No.          </th> <td>    64.5</td>\n",
              "</tr>\n",
              "</table><br/><br/>Warnings:<br/>[1] Standard Errors assume that the covariance matrix of the errors is correctly specified."
            ],
            "text/plain": [
              "<class 'statsmodels.iolib.summary.Summary'>\n",
              "\"\"\"\n",
              "                            OLS Regression Results                            \n",
              "==============================================================================\n",
              "Dep. Variable:                    DIS   R-squared:                       0.062\n",
              "Model:                            OLS   Adj. R-squared:                  0.061\n",
              "Method:                 Least Squares   F-statistic:                     33.58\n",
              "Date:                Tue, 28 Sep 2021   Prob (F-statistic):           1.21e-08\n",
              "Time:                        17:04:56   Log-Likelihood:                -1078.0\n",
              "No. Observations:                 506   AIC:                             2160.\n",
              "Df Residuals:                     504   BIC:                             2168.\n",
              "Df Model:                           1                                         \n",
              "Covariance Type:            nonrobust                                         \n",
              "==============================================================================\n",
              "                 coef    std err          t      P>|t|      [0.025      0.975]\n",
              "------------------------------------------------------------------------------\n",
              "const          2.5057      0.240     10.428      0.000       2.034       2.978\n",
              "MEDV           0.0572      0.010      5.795      0.000       0.038       0.077\n",
              "==============================================================================\n",
              "Omnibus:                       70.837   Durbin-Watson:                   0.138\n",
              "Prob(Omnibus):                  0.000   Jarque-Bera (JB):               98.167\n",
              "Skew:                           1.000   Prob(JB):                     4.82e-22\n",
              "Kurtosis:                       3.809   Cond. No.                         64.5\n",
              "==============================================================================\n",
              "\n",
              "Warnings:\n",
              "[1] Standard Errors assume that the covariance matrix of the errors is correctly specified.\n",
              "\"\"\""
            ]
          },
          "metadata": {},
          "execution_count": 62
        }
      ]
    },
    {
      "cell_type": "markdown",
      "metadata": {
        "id": "SVdPkM6vX9l1"
      },
      "source": [
        "**Conclusion:**\n",
        "since the p-value is less than the alpha (α) level = 0.05, we reject the null hypothesis as there is evidence that there IS a impact with an additional weighted distance to the five Boston employment centres on the median value of owner occupied homes. \n",
        "\n",
        "The coefficient 0.057 means that the impact with an additional weighted distance  to the five Boston employment centres on the median value of owner occupied homes is 0.057 "
      ]
    },
    {
      "cell_type": "code",
      "metadata": {
        "id": "DA_FRZgsZcll"
      },
      "source": [
        ""
      ],
      "execution_count": null,
      "outputs": []
    }
  ]
}